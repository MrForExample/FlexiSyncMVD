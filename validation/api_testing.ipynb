{
 "cells": [
  {
   "cell_type": "markdown",
   "metadata": {},
   "source": [
    "# Sortium Texture API Testing"
   ]
  },
  {
   "cell_type": "code",
   "execution_count": 23,
   "metadata": {},
   "outputs": [],
   "source": [
    "from httpx import Client\n",
    "from pydantic import BaseModel, HttpUrl, Field\n",
    "from pydantic_settings import BaseSettings\n",
    "from typing import Optional\n",
    "import sys\n",
    "from pathlib import Path"
   ]
  },
  {
   "cell_type": "code",
   "execution_count": null,
   "metadata": {},
   "outputs": [],
   "source": [
    "# Add the project root directory to PYTHONPATH\n",
    "project_root = Path().resolve().parent\n",
    "sys.path.insert(0, str(project_root))\n",
    "\n",
    "from sortium.src.custom_types import InputConfig\n",
    "from sortium.src.custom_types import TextureOutput"
   ]
  },
  {
   "cell_type": "code",
   "execution_count": 25,
   "metadata": {},
   "outputs": [],
   "source": [
    "class Settings(BaseSettings):\n",
    "    api_base_url: HttpUrl = \"http://127.0.0.1:8000\"\n",
    "    texture_endpoint: str = \"/texture\"\n",
    "    gpu_status_endpoint: str = \"/gpu_status\"\n",
    "    timeout: int = 360\n",
    "\n",
    "class APIHeaders(BaseModel):\n",
    "    content_type: Optional[str] = Field(\"application/json\", serialization_alias=\"Content-Type\")\n",
    "    accept: Optional[str] = Field(\"application/json\", serialization_alias=\"Accept\")"
   ]
  },
  {
   "cell_type": "code",
   "execution_count": 26,
   "metadata": {},
   "outputs": [],
   "source": [
    "settings = Settings()"
   ]
  },
  {
   "cell_type": "code",
   "execution_count": 27,
   "metadata": {},
   "outputs": [],
   "source": [
    "api_headers= APIHeaders()\n",
    "api_client = Client(base_url=str(settings.api_base_url), headers=api_headers.model_dump(exclude_none=True, by_alias=True), timeout=settings.timeout)"
   ]
  },
  {
   "cell_type": "code",
   "execution_count": 28,
   "metadata": {},
   "outputs": [],
   "source": [
    "def generate_texture(input_config: InputConfig, client: Client) -> TextureOutput:\n",
    "    response = client.post(settings.texture_endpoint, json=input_config.model_dump(exclude_none=True))\n",
    "    response.raise_for_status()\n",
    "\n",
    "    return TextureOutput(**response.json())"
   ]
  },
  {
   "cell_type": "code",
   "execution_count": 33,
   "metadata": {},
   "outputs": [
    {
     "name": "stdout",
     "output_type": "stream",
     "text": [
      "{\n",
      "  \"status\": \"success\",\n",
      "  \"generated_mesh\": \"https://sortium-ai-uploads-bucket.nyc3.digitaloceanspaces.com/fc8b72c3-ff2d-4728-8298-b4554b56199e.glb\",\n",
      "  \"error_message\": null,\n",
      "  \"process_time\": 288.3243289860002\n",
      "}\n"
     ]
    }
   ],
   "source": [
    "input_json = {\n",
    "  \"mesh\": \"Cammy_Normalized_no_color.glb\",\n",
    "  \"t2i_model\": \"SDXL\",\n",
    "  \"prompt\": \"Cammy from Street Fighter, she wears a tight green V shape bodysuit, bare skin legs from feet to thighs with no pants to cover it. A red beret with a black star tops her head, and she has long blonde braids. Her red combat gauntlets and piercing blue eyes emphasize her readiness for battle, detailed, 8k\",\n",
    "  \"steps\": 30,\n",
    "  \"cond_type\": \"depth\",\n",
    "  \"seed\": 8989,\n",
    "  \"log_interval\": 10,\n",
    "  \"mesh_scale\": 1,\n",
    "  \"latent_view_size\": 128,\n",
    "  \"latent_tex_size\": 768,\n",
    "  \"rgb_view_size\": 768,\n",
    "  \"rgb_tex_size\": 1024,\n",
    "  \"conditioning_scale\": 0.3,\n",
    "  \"conditioning_scale_end\": 0.7\n",
    "}\n",
    "\n",
    "input_config = InputConfig(**input_json)\n",
    "\n",
    "output = generate_texture(input_config, api_client)\n",
    "\n",
    "print(output.model_dump_json(indent=2))"
   ]
  },
  {
   "cell_type": "code",
   "execution_count": null,
   "metadata": {},
   "outputs": [
    {
     "name": "stdout",
     "output_type": "stream",
     "text": [
      "status=<OutputStatus.SUCCESS: 'success'> generated_mesh=HttpUrl('https://sortium-ai-uploads-bucket.nyc3.digitaloceanspaces.com/73d9b233-8ba8-42bc-88ff-7e11436a18e5.glb') error_message=None process_time=212.28120494999985\n"
     ]
    }
   ],
   "source": [
    "input_json = {\n",
    "  \"mesh\": \"Marcille_All_UVs.glb\",\n",
    "  \"t2i_model\": \"SDXL\",\n",
    "  \"prompt\": \"1girl, white elf, light blue cloth, brown pants, brown slippers, smooth hands, blonde braids, blue eyes, grey background, masterpiece, best quality, very aesthetic, absurdres\",\n",
    "  \"negative_prompt\": \"nsfw, lowres, (bad), text, error, fewer, extra, missing, worst quality, jpeg artifacts, low quality, watermark, unfinished, displeasing, oldest, early, chromatic aberration, signature, extra digits, artistic error, username, scan, [abstract]\",\n",
    "  \"custom_style\": \"anime\",\n",
    "  \"steps\": 30,\n",
    "  \"cond_type\": \"depth\",\n",
    "  \"seed\": 4399171738989,\n",
    "  \"log_interval\": 10,\n",
    "  \"mesh_scale\": 0.9,\n",
    "  \"latent_view_size\": 128,\n",
    "  \"latent_tex_size\": 768,\n",
    "  \"rgb_view_size\": 768,\n",
    "  \"rgb_tex_size\": 1024,\n",
    "  \"conditioning_scale\": 0.3,\n",
    "  \"conditioning_scale_end\": 0.7,\n",
    "  \"ip_adapter_scale\": 0.5,\n",
    "  \"ip_adapter_image\": \"https://sortium-ai-uploads-bucket.nyc3.digitaloceanspaces.com/cammy_style_ref_test_anime.png\"\n",
    "}\n",
    "input_config = InputConfig(**input_json)\n",
    "\n",
    "output = generate_texture(input_config, api_client)\n",
    "\n",
    "print(output.model_dump_json(indent=2))"
   ]
  },
  {
   "cell_type": "code",
   "execution_count": 30,
   "metadata": {},
   "outputs": [
    {
     "name": "stdout",
     "output_type": "stream",
     "text": [
      "{\n",
      "  \"status\": \"success\",\n",
      "  \"generated_mesh\": \"https://sortium-ai-uploads-bucket.nyc3.digitaloceanspaces.com/42ff95f4-62dd-43ec-8615-8eb7358b2b12.glb\",\n",
      "  \"error_message\": null,\n",
      "  \"process_time\": 208.51750463100052\n",
      "}\n"
     ]
    }
   ],
   "source": [
    "input_json = {\n",
    "  \"mesh\": \"Marcille_All_UVs.glb\",\n",
    "  \"t2i_model\": \"SDXL\",\n",
    "  \"prompt\": \"1girl, white elf, light blue cloth, brown pants, brown slippers, smooth hands, blonde braids, blue eyes, grey background, masterpiece, best quality, very aesthetic, absurdres\",\n",
    "  \"negative_prompt\": \"nsfw, lowres, (bad), text, error, fewer, extra, missing, worst quality, jpeg artifacts, low quality, watermark, unfinished, displeasing, oldest, early, chromatic aberration, signature, extra digits, artistic error, username, scan, [abstract]\",\n",
    "  \"custom_style\": \"realistic\",\n",
    "  \"steps\": 30,\n",
    "  \"cond_type\": \"depth\",\n",
    "  \"seed\": 999888321123,\n",
    "  \"log_interval\": 10,\n",
    "  \"mesh_scale\": 1,\n",
    "  \"latent_view_size\": 128,\n",
    "  \"latent_tex_size\": 768,\n",
    "  \"rgb_view_size\": 768,\n",
    "  \"rgb_tex_size\": 1024,\n",
    "  \"conditioning_scale\": 0.3,\n",
    "  \"conditioning_scale_end\": 0.7,\n",
    "  \"ip_adapter_scale\": 0.5,\n",
    "  \"ip_adapter_image\": \"https://sortium-ai-uploads-bucket.nyc3.digitaloceanspaces.com/cammy_style_ref_test_realistic.png\"\n",
    "}\n",
    "\n",
    "input_config = InputConfig(**input_json)\n",
    "\n",
    "output = generate_texture(input_config, api_client)\n",
    "\n",
    "print(output.model_dump_json(indent=2))"
   ]
  },
  {
   "cell_type": "code",
   "execution_count": null,
   "metadata": {},
   "outputs": [],
   "source": [
    "input_config = {\n",
    "  \"mesh\": \"Ukulele_01_1k.glb\",\n",
    "  \"t2i_model\": \"SDXL\",\n",
    "  \"prompt\": \"An mexican themed ukulele, detailed, 8k\",\n",
    "  \"steps\": 30,\n",
    "  \"cond_type\": \"depth\",\n",
    "  \"seed\": 8989,\n",
    "  \"log_interval\": 10,\n",
    "  \"mesh_scale\": 1,\n",
    "  \"latent_view_size\": 128,\n",
    "  \"latent_tex_size\": 768,\n",
    "  \"rgb_view_size\": 768,\n",
    "  \"rgb_tex_size\": 1024,\n",
    "  \"conditioning_scale\": 0.3,\n",
    "  \"conditioning_scale_end\": 0.7\n",
    "}\n"
   ]
  }
 ],
 "metadata": {
  "kernelspec": {
   "display_name": ".venv",
   "language": "python",
   "name": "python3"
  },
  "language_info": {
   "codemirror_mode": {
    "name": "ipython",
    "version": 3
   },
   "file_extension": ".py",
   "mimetype": "text/x-python",
   "name": "python",
   "nbconvert_exporter": "python",
   "pygments_lexer": "ipython3",
   "version": "3.10.13"
  }
 },
 "nbformat": 4,
 "nbformat_minor": 2
}
